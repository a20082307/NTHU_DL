{
 "cells": [
  {
   "cell_type": "markdown",
   "id": "e51c4943",
   "metadata": {},
   "source": [
    "## Import Modules"
   ]
  },
  {
   "cell_type": "code",
   "execution_count": 508,
   "id": "74c853a5",
   "metadata": {},
   "outputs": [],
   "source": [
    "import math\n",
    "import os\n",
    "import warnings\n",
    "\n",
    "import matplotlib.pyplot as plt\n",
    "import numpy as np\n",
    "import pandas as pd\n",
    "import sklearn\n",
    "\n",
    "# To ignore all warnings\n",
    "warnings.filterwarnings(\"ignore\")"
   ]
  },
  {
   "cell_type": "markdown",
   "id": "6c51ac36",
   "metadata": {},
   "source": [
    "## Load Data"
   ]
  },
  {
   "cell_type": "code",
   "execution_count": 509,
   "id": "453a3395",
   "metadata": {},
   "outputs": [
    {
     "name": "stdout",
     "output_type": "stream",
     "text": [
      "   0    1    2    3    4    5    6    7    8    9    ...    270    271    272  \\\n",
      "0    0    1    2    3    4    5    6    7    8    9  ...  270.0  271.0  272.0   \n",
      "1   75    0  190   80   91  193  371  174  121  -16  ...    0.0    9.0   -0.9   \n",
      "2   56    1  165   64   81  174  401  149   39   25  ...    0.0    8.5    0.0   \n",
      "3   54    0  172   95  138  163  386  185  102   96  ...    0.0    9.5   -2.4   \n",
      "4   55    0  175   94  100  202  380  179  143   28  ...    0.0   12.2   -2.2   \n",
      "\n",
      "     273    274    275    276    277    278  279  \n",
      "0  273.0  274.0  275.0  276.0  277.0  278.0  279  \n",
      "1    0.0    0.0    0.9    2.9   23.3   49.4    8  \n",
      "2    0.0    0.0    0.2    2.1   20.4   38.8    6  \n",
      "3    0.0    0.0    0.3    3.4   12.3   49.0   10  \n",
      "4    0.0    0.0    0.4    2.6   34.6   61.6    1  \n",
      "\n",
      "[5 rows x 280 columns]\n",
      "453 rows and 280 columns\n"
     ]
    }
   ],
   "source": [
    "if not os.path.exists(\"data\"):\n",
    "    os.mkdir(\"data\")\n",
    "    data = pd.read_csv(\n",
    "        'http://archive.ics.uci.edu/ml/machine-learning-databases/'\n",
    "        'arrhythmia/arrhythmia.data', header = None, sep = ',', engine = 'python'\n",
    "    ).to_csv(\"./data/train.csv\", index = False)\n",
    "\n",
    "data = pd.read_csv(\"./data/train.csv\", header = None, sep = ',', engine = 'python')\n",
    "print(data.head())\n",
    "print('%d rows and %d columns' % (data.shape[0],data.shape[1]))"
   ]
  },
  {
   "cell_type": "code",
   "execution_count": 510,
   "id": "743ed41f",
   "metadata": {},
   "outputs": [
    {
     "name": "stdout",
     "output_type": "stream",
     "text": [
      "453 rows and 275 columns\n"
     ]
    }
   ],
   "source": [
    "data['arrhythmia'] = data[len(data.columns)-1].map(lambda x: 0 if x==1 else 1)\n",
    "data = data.drop(len(data.columns)-2, axis=1)\n",
    "data.groupby(['arrhythmia']).size()\n",
    "data = data._get_numeric_data()\n",
    "print('%d rows and %d columns' % (data.shape[0],data.shape[1]))"
   ]
  },
  {
   "cell_type": "code",
   "execution_count": 511,
   "id": "87dcfebd",
   "metadata": {},
   "outputs": [
    {
     "name": "stdout",
     "output_type": "stream",
     "text": [
      "[0 1]\n",
      "(453, 274)\n"
     ]
    }
   ],
   "source": [
    "X = data.iloc[:, :-1]  # The first to second-last columns are the features\n",
    "y = data.iloc[:, -1]   # The last column is the ground-truth label\n",
    "print(np.unique(y))\n",
    "print(X.shape)"
   ]
  },
  {
   "cell_type": "code",
   "execution_count": 512,
   "id": "8dda7821",
   "metadata": {},
   "outputs": [
    {
     "name": "stdout",
     "output_type": "stream",
     "text": [
      "(362, 274) (362,) (91, 274) (91,)\n"
     ]
    }
   ],
   "source": [
    "X_train, X_test, y_train, y_test = sklearn.model_selection.train_test_split(X, y, test_size = 0.2, random_state = 12)\n",
    "sc = sklearn.preprocessing.StandardScaler()\n",
    "sc.fit(X_train)\n",
    "X_train_std = sc.transform(X_train)\n",
    "X_test_std = sc.transform(X_test)\n",
    "\n",
    "print(X_train_std.shape, y_train.shape, X_test_std.shape, y_test.shape)"
   ]
  },
  {
   "cell_type": "markdown",
   "id": "c4857f24",
   "metadata": {},
   "source": [
    "## Logistic Regressino Class"
   ]
  },
  {
   "cell_type": "code",
   "execution_count": 513,
   "id": "659eb2c9",
   "metadata": {},
   "outputs": [],
   "source": [
    "class LogisticRegression(object):\n",
    "\n",
    "    def __init__(self, eta=0.05, n_epoch=100, random_state=1):\n",
    "        \"\"\"Feel free to change the hyperparameters\"\"\"\n",
    "        self.eta = eta\n",
    "        self.n_epoch = n_epoch\n",
    "        self.random_state = random_state\n",
    "\n",
    "    def fit(self, X, y):\n",
    "        rgen = np.random.RandomState(self.random_state)\n",
    "        self.w_ = rgen.normal(loc=0.0, scale=0.01, size=1 + X.shape[1])\n",
    "        self.cost_ = []\n",
    "\n",
    "        for i in range(self.n_epoch):\n",
    "            net_input = self.net_input(X)\n",
    "            output = self.activation(net_input)\n",
    "            gradient_weights, gradient_bias = self.gradient(X, output, y)\n",
    "            self.w_[1:] += self.eta * gradient_weights\n",
    "            self.w_[0] += self.eta * gradient_bias\n",
    "            cost = self.loss(output, y)\n",
    "            self.cost_.append(cost)\n",
    "            if(i % 100 == 0): print(f\"[Epochs {i}/{self.n_epoch}]: cost = {cost}\")\n",
    "        return self\n",
    "\n",
    "    def net_input(self, X):\n",
    "        \"\"\"Calculate net input\"\"\"\n",
    "        return np.dot(X, self.w_[1:]) + self.w_[0]\n",
    "\n",
    "    def loss(self, output, y):\n",
    "        \"\"\"Calculate cross entropy loss\"\"\"\n",
    "        # TODO\n",
    "        epsilon = 1e-15\n",
    "        entropy = 0\n",
    "        \n",
    "        for i in range(len(y)):\n",
    "            entropy += -(y.iloc[i] * np.log(output[i] + epsilon) + (1 - y.iloc[i]) * np.log(1 - output[i] + epsilon))\n",
    "        \n",
    "        return entropy\n",
    "\n",
    "    def gradient(self, X, output, y):\n",
    "        \"\"\"Calculate the partial derivative of cross entropy loss with respect to weights\"\"\"\n",
    "        errors = (y - output)\n",
    "        return errors.dot(X), errors.sum()\n",
    "\n",
    "    def activation(self, z):\n",
    "        \"\"\"Compute logistic sigmoid activation\"\"\"\n",
    "        # TODO\n",
    "        \n",
    "        return 1.0 / (1.0 + np.exp(-z))\n",
    "        \n",
    "\n",
    "    def predict(self, X):\n",
    "        \"\"\"Return class label after unit step\"\"\"\n",
    "        # TODO\n",
    "        y_pred = np.zeros(len(X))\n",
    "         \n",
    "        net_input = self.net_input(X)\n",
    "        output = self.activation(net_input)\n",
    "        \n",
    "        for i in range(len(X)):\n",
    "            if(output[i] > 0.5): y_pred[i] = 1\n",
    "            else : y_pred[i] = 0\n",
    "        \n",
    "        return y_pred\n",
    "       "
   ]
  },
  {
   "cell_type": "markdown",
   "id": "e18de052",
   "metadata": {},
   "source": [
    "## Training"
   ]
  },
  {
   "cell_type": "code",
   "execution_count": 514,
   "id": "fc2ca040",
   "metadata": {},
   "outputs": [
    {
     "name": "stdout",
     "output_type": "stream",
     "text": [
      "[Epochs 0/5000]: cost = 253.34933969819886\n",
      "[Epochs 100/5000]: cost = 78.66465403067703\n",
      "[Epochs 200/5000]: cost = 56.37969408612095\n",
      "[Epochs 300/5000]: cost = 37.51147514353198\n",
      "[Epochs 400/5000]: cost = 33.72924689806152\n",
      "[Epochs 500/5000]: cost = 29.550333656224616\n",
      "[Epochs 600/5000]: cost = 26.93818900880469\n",
      "[Epochs 700/5000]: cost = 24.777457767124183\n",
      "[Epochs 800/5000]: cost = 22.947231807055907\n",
      "[Epochs 900/5000]: cost = 21.371399770484054\n",
      "[Epochs 1000/5000]: cost = 19.997594879425144\n",
      "[Epochs 1100/5000]: cost = 18.787856846949335\n",
      "[Epochs 1200/5000]: cost = 17.713674274084656\n",
      "[Epochs 1300/5000]: cost = 16.753059151196645\n",
      "[Epochs 1400/5000]: cost = 15.888697501338202\n",
      "[Epochs 1500/5000]: cost = 15.106721806825798\n",
      "[Epochs 1600/5000]: cost = 14.3958653602693\n",
      "[Epochs 1700/5000]: cost = 13.746862215093113\n",
      "[Epochs 1800/5000]: cost = 13.152010886512688\n",
      "[Epochs 1900/5000]: cost = 12.604850511182962\n",
      "[Epochs 2000/5000]: cost = 12.099916185774955\n",
      "[Epochs 2100/5000]: cost = 11.632551254680429\n",
      "[Epochs 2200/5000]: cost = 11.198761324586062\n",
      "[Epochs 2300/5000]: cost = 10.795099354790331\n",
      "[Epochs 2400/5000]: cost = 10.418574227695844\n",
      "[Epochs 2500/5000]: cost = 10.066577290697792\n",
      "[Epochs 2600/5000]: cost = 9.736822813356433\n",
      "[Epochs 2700/5000]: cost = 9.427299332635068\n",
      "[Epochs 2800/5000]: cost = 9.1362295994996\n",
      "[Epochs 2900/5000]: cost = 8.862037381274291\n",
      "[Epochs 3000/5000]: cost = 8.603319775141248\n",
      "[Epochs 3100/5000]: cost = 8.35882398878036\n",
      "[Epochs 3200/5000]: cost = 8.127427770844116\n",
      "[Epochs 3300/5000]: cost = 7.908122844586992\n",
      "[Epochs 3400/5000]: cost = 7.70000082562624\n",
      "[Epochs 3500/5000]: cost = 7.502241200771652\n",
      "[Epochs 3600/5000]: cost = 7.31410101948731\n",
      "[Epochs 3700/5000]: cost = 7.134906011079227\n",
      "[Epochs 3800/5000]: cost = 6.964042893646696\n",
      "[Epochs 3900/5000]: cost = 6.800952686106264\n",
      "[Epochs 4000/5000]: cost = 6.645124871542542\n",
      "[Epochs 4100/5000]: cost = 6.49609228869347\n",
      "[Epochs 4200/5000]: cost = 6.353426649762452\n",
      "[Epochs 4300/5000]: cost = 6.216734598899766\n",
      "[Epochs 4400/5000]: cost = 6.085654238397227\n",
      "[Epochs 4500/5000]: cost = 5.959852060109067\n",
      "[Epochs 4600/5000]: cost = 5.839020228513059\n",
      "[Epochs 4700/5000]: cost = 5.72287416948008\n",
      "[Epochs 4800/5000]: cost = 5.611150425398116\n",
      "[Epochs 4900/5000]: cost = 5.503604742917849\n"
     ]
    },
    {
     "data": {
      "text/plain": [
       "<__main__.LogisticRegression at 0x1df7d7cbb20>"
      ]
     },
     "execution_count": 514,
     "metadata": {},
     "output_type": "execute_result"
    }
   ],
   "source": [
    "model = LogisticRegression(eta = 0.0075, n_epoch = 5000, random_state = 42)\n",
    "model.fit(X_train_std, y_train)"
   ]
  },
  {
   "cell_type": "markdown",
   "id": "c61038cc",
   "metadata": {},
   "source": [
    "## Plot the loss curve"
   ]
  },
  {
   "cell_type": "code",
   "execution_count": 515,
   "id": "82d35368",
   "metadata": {},
   "outputs": [
    {
     "data": {
      "image/png": "[encoded data removed]",
      "text/plain": [
       "<Figure size 640x480 with 1 Axes>"
      ]
     },
     "metadata": {},
     "output_type": "display_data"
    }
   ],
   "source": [
    "plt.plot(range(1, len(model.cost_) + 1), model.cost_, label = 'loss')\n",
    "plt.ylabel('Loss')\n",
    "plt.xlabel('Epoch')\n",
    "plt.legend()\n",
    "plt.show()"
   ]
  },
  {
   "cell_type": "markdown",
   "id": "33d3a653",
   "metadata": {},
   "source": [
    "## Plot the confusion matrix"
   ]
  },
  {
   "cell_type": "code",
   "execution_count": 516,
   "id": "a8eee436",
   "metadata": {},
   "outputs": [
    {
     "data": {
      "image/png": "[encoded data removed]",
      "text/plain": [
       "<Figure size 400x400 with 1 Axes>"
      ]
     },
     "metadata": {},
     "output_type": "display_data"
    }
   ],
   "source": [
    "y_pred = model.predict(X_test_std)\n",
    "matrix = sklearn.metrics.confusion_matrix(y_test, y_pred)\n",
    "\n",
    "fig, ax = plt.subplots(figsize = (4, 4))\n",
    "ax.matshow(matrix, cmap = plt.cm.Blues, alpha = 0.25)\n",
    "for i in range(matrix.shape[0]):\n",
    "    for j in range(matrix.shape[1]):\n",
    "        ax.text(x = j, y = i, s = matrix[i, j], va = 'center', ha = 'center', size = 'xx-large')\n",
    "\n",
    "plt.xlabel('Predicted label')\n",
    "plt.ylabel('True label')\n",
    "\n",
    "plt.tight_layout()\n",
    "for item in ([ax.title, ax.xaxis.label, ax.yaxis.label] +\n",
    "             ax.get_xticklabels() + ax.get_yticklabels()):\n",
    "    item.set_fontsize(15)\n",
    "for item in (ax.get_xticklabels() + ax.get_yticklabels()):\n",
    "    item.set_fontsize(15)\n",
    "plt.show()"
   ]
  },
  {
   "cell_type": "markdown",
   "id": "4664a118",
   "metadata": {},
   "source": [
    "## Calculate F1-score"
   ]
  },
  {
   "cell_type": "code",
   "execution_count": 517,
   "id": "741fcd7a",
   "metadata": {},
   "outputs": [
    {
     "name": "stdout",
     "output_type": "stream",
     "text": [
      "F1-score: 0.72917\n"
     ]
    }
   ],
   "source": [
    "f1_score = sklearn.metrics.f1_score(y_test, y_pred)\n",
    "print(f'F1-score: {f1_score:.5f}')"
   ]
  }
 ],
 "metadata": {
  "kernelspec": {
   "display_name": "base",
   "language": "python",
   "name": "python3"
  },
  "language_info": {
   "codemirror_mode": {
    "name": "ipython",
    "version": 3
   },
   "file_extension": ".py",
   "mimetype": "text/x-python",
   "name": "python",
   "nbconvert_exporter": "python",
   "pygments_lexer": "ipython3",
   "version": "3.10.12"
  }
 },
 "nbformat": 4,
 "nbformat_minor": 5
}
